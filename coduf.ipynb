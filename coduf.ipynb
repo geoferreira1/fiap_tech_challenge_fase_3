{
 "cells": [
  {
   "cell_type": "code",
   "execution_count": 3,
   "id": "4480a405",
   "metadata": {},
   "outputs": [],
   "source": [
    "# Importa libs\n",
    "\n",
    "import requests\n",
    "from lxml import html\n",
    "import pandas as pd\n"
   ]
  },
  {
   "cell_type": "code",
   "execution_count": 4,
   "id": "a79ac487",
   "metadata": {},
   "outputs": [
    {
     "name": "stdout",
     "output_type": "stream",
     "text": [
      "  Código        UF Sigla    Região\n",
      "0     12      Acre    AC     Norte\n",
      "1     27   Alagoas    AL  Nordeste\n",
      "2     16     Amapá    AP     Norte\n",
      "3     13  Amazonas    AM     Norte\n",
      "4     29     Bahia    BA  Nordeste\n"
     ]
    }
   ],
   "source": [
    "# URL da página\n",
    "url = \"https://www.ibge.gov.br/explica/codigos-dos-municipios.php\"\n",
    "\n",
    "# Request\n",
    "resposta = requests.get(url)\n",
    "resposta.encoding = 'utf-8' \n",
    "\n",
    "# Parse HTML\n",
    "base = html.fromstring(resposta.content)\n",
    "\n",
    "# Extrai os dados da tabela de UFs\n",
    "ufs = base.xpath('//table[1]/tbody/tr/td[1]/a/text()')\n",
    "cod = base.xpath('//table[1]/tbody/tr/td[2]/a/text()')\n",
    "\n",
    "# Monta o DataFrame\n",
    "cod_uf = pd.DataFrame({\n",
    "    'Código': cod,\n",
    "    'UF': ufs\n",
    "})\n",
    "\n",
    "# Mapeamento de Código para Sigla e Região\n",
    "mapa_uf = {\n",
    "    '11': {'Sigla': 'RO', 'Região': 'Norte'},\n",
    "    '12': {'Sigla': 'AC', 'Região': 'Norte'},\n",
    "    '13': {'Sigla': 'AM', 'Região': 'Norte'},\n",
    "    '14': {'Sigla': 'RR', 'Região': 'Norte'},\n",
    "    '15': {'Sigla': 'PA', 'Região': 'Norte'},\n",
    "    '16': {'Sigla': 'AP', 'Região': 'Norte'},\n",
    "    '17': {'Sigla': 'TO', 'Região': 'Norte'},\n",
    "    '21': {'Sigla': 'MA', 'Região': 'Nordeste'},\n",
    "    '22': {'Sigla': 'PI', 'Região': 'Nordeste'},\n",
    "    '23': {'Sigla': 'CE', 'Região': 'Nordeste'},\n",
    "    '24': {'Sigla': 'RN', 'Região': 'Nordeste'},\n",
    "    '25': {'Sigla': 'PB', 'Região': 'Nordeste'},\n",
    "    '26': {'Sigla': 'PE', 'Região': 'Nordeste'},\n",
    "    '27': {'Sigla': 'AL', 'Região': 'Nordeste'},\n",
    "    '28': {'Sigla': 'SE', 'Região': 'Nordeste'},\n",
    "    '29': {'Sigla': 'BA', 'Região': 'Nordeste'},\n",
    "    '31': {'Sigla': 'MG', 'Região': 'Sudeste'},\n",
    "    '32': {'Sigla': 'ES', 'Região': 'Sudeste'},\n",
    "    '33': {'Sigla': 'RJ', 'Região': 'Sudeste'},\n",
    "    '35': {'Sigla': 'SP', 'Região': 'Sudeste'},\n",
    "    '41': {'Sigla': 'PR', 'Região': 'Sul'},\n",
    "    '42': {'Sigla': 'SC', 'Região': 'Sul'},\n",
    "    '43': {'Sigla': 'RS', 'Região': 'Sul'},\n",
    "    '50': {'Sigla': 'MS', 'Região': 'Centro-Oeste'},\n",
    "    '51': {'Sigla': 'MT', 'Região': 'Centro-Oeste'},\n",
    "    '52': {'Sigla': 'GO', 'Região': 'Centro-Oeste'},\n",
    "    '53': {'Sigla': 'DF', 'Região': 'Centro-Oeste'}\n",
    "}\n",
    "\n",
    "# Adiciona as colunas com base no mapeamento\n",
    "cod_uf['Sigla'] = cod_uf['Código'].map(lambda x: mapa_uf.get(x, {}).get('Sigla'))\n",
    "cod_uf['Região'] = cod_uf['Código'].map(lambda x: mapa_uf.get(x, {}).get('Região'))\n",
    "\n",
    "# Exibe o DataFrame\n",
    "print(cod_uf.head())\n",
    "\n",
    "# Salva o DataFrame em um arquivo CSV\n",
    "cod_uf.to_csv('codigo_uf.csv', index=False, encoding='utf-8')"
   ]
  }
 ],
 "metadata": {
  "kernelspec": {
   "display_name": ".venv",
   "language": "python",
   "name": "python3"
  },
  "language_info": {
   "codemirror_mode": {
    "name": "ipython",
    "version": 3
   },
   "file_extension": ".py",
   "mimetype": "text/x-python",
   "name": "python",
   "nbconvert_exporter": "python",
   "pygments_lexer": "ipython3",
   "version": "3.13.3"
  }
 },
 "nbformat": 4,
 "nbformat_minor": 5
}
